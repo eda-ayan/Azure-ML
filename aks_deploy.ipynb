{
  "cells": [
    {
      "cell_type": "code",
      "source": [
        "from azureml.core import Workspace\r\n",
        "from azureml.core.compute import AksCompute, ComputeTarget\r\n",
        "from azureml.core.webservice import Webservice, AksWebservice\r\n",
        "from azureml.core.model import Model"
      ],
      "outputs": [],
      "execution_count": 1,
      "metadata": {
        "gather": {
          "logged": 1639638356368
        }
      }
    },
    {
      "cell_type": "code",
      "source": [
        "import azureml.core\r\n",
        "print(azureml.core.VERSION)"
      ],
      "outputs": [
        {
          "output_type": "stream",
          "name": "stdout",
          "text": "1.36.0\n"
        }
      ],
      "execution_count": 2,
      "metadata": {
        "jupyter": {
          "source_hidden": false,
          "outputs_hidden": false
        },
        "nteract": {
          "transient": {
            "deleting": false
          }
        },
        "gather": {
          "logged": 1639638361426
        }
      }
    },
    {
      "cell_type": "markdown",
      "source": [
        "# Get workspace"
      ],
      "metadata": {
        "nteract": {
          "transient": {
            "deleting": false
          }
        }
      }
    },
    {
      "cell_type": "code",
      "source": [
        "from azureml.core.workspace import Workspace\r\n",
        "\r\n",
        "ws = Workspace(subscription_id=\"<your-subscription-id>\",\r\n",
        "               resource_group=\"<your-resource-group-name>\",\r\n",
        "               workspace_name=\"<your-ws-name>\")\r\n",
        "print(ws.name, ws.resource_group, ws.location, ws.subscription_id, sep = '\\n')"
      ],
      "outputs": [],
      "execution_count": null,
      "metadata": {
        "jupyter": {
          "source_hidden": false,
          "outputs_hidden": false
        },
        "nteract": {
          "transient": {
            "deleting": false
          }
        }
      }
    },
    {
      "cell_type": "markdown",
      "source": [
        "# Register the model"
      ],
      "metadata": {
        "nteract": {
          "transient": {
            "deleting": false
          }
        }
      }
    },
    {
      "cell_type": "code",
      "source": [
        "from azureml.core.model import Model\r\n",
        "model = Model.register(model_path = \"movie.pkl\", # this points to a local file\r\n",
        "                       model_name = \"movie\", # this is the name the model is registered as\r\n",
        "                       tags = {'area': \"movies\", 'type': \"svd\"},\r\n",
        "                       description = \"svd model to predict movie ratings of users\",\r\n",
        "                       workspace = ws)\r\n",
        "\r\n",
        "print(model.name, model.description, model.version)"
      ],
      "outputs": [
        {
          "output_type": "stream",
          "name": "stdout",
          "text": "Registering model movie\nmovie svd model to predict movie ratings of users 1\n"
        }
      ],
      "execution_count": 4,
      "metadata": {
        "jupyter": {
          "source_hidden": false,
          "outputs_hidden": false
        },
        "nteract": {
          "transient": {
            "deleting": false
          }
        },
        "gather": {
          "logged": 1639638546335
        }
      }
    },
    {
      "cell_type": "code",
      "source": [
        "# Create the Environment"
      ],
      "outputs": [],
      "execution_count": null,
      "metadata": {
        "jupyter": {
          "source_hidden": false,
          "outputs_hidden": false
        },
        "nteract": {
          "transient": {
            "deleting": false
          }
        }
      }
    },
    {
      "cell_type": "code",
      "source": [
        "from azureml.core import Environment\r\n",
        "from azureml.core.conda_dependencies import CondaDependencies \r\n",
        "\r\n",
        "conda_deps = CondaDependencies.create(conda_packages=['numpy==1.17.0'], pip_packages=['azureml-defaults', 'inference-schema', 'surprise'])\r\n",
        "myenv = Environment(name='myenv')\r\n",
        "myenv.python.conda_dependencies = conda_deps"
      ],
      "outputs": [],
      "execution_count": 5,
      "metadata": {
        "jupyter": {
          "source_hidden": false,
          "outputs_hidden": false
        },
        "nteract": {
          "transient": {
            "deleting": false
          }
        },
        "gather": {
          "logged": 1639638724023
        }
      }
    },
    {
      "cell_type": "code",
      "source": [
        "# Create the InferenceConfig"
      ],
      "outputs": [],
      "execution_count": null,
      "metadata": {
        "jupyter": {
          "source_hidden": false,
          "outputs_hidden": false
        },
        "nteract": {
          "transient": {
            "deleting": false
          }
        }
      }
    },
    {
      "cell_type": "code",
      "source": [
        "from azureml.core.model import InferenceConfig\r\n",
        "\r\n",
        "inf_config = InferenceConfig(entry_script='score.py', environment=myenv)"
      ],
      "outputs": [],
      "execution_count": 13,
      "metadata": {
        "jupyter": {
          "source_hidden": false,
          "outputs_hidden": false
        },
        "nteract": {
          "transient": {
            "deleting": false
          }
        },
        "gather": {
          "logged": 1639639312751
        }
      }
    },
    {
      "cell_type": "markdown",
      "source": [
        "# Provision the AKS Cluster with SSL\r\n",
        "This is a one time setup. You can reuse this cluster for multiple deployments after it has been created. If you delete the cluster or the resource group that contains it, then you would have to recreate it.\r\n",
        "\r\n",
        "> Note that if you have an AzureML Data Scientist role, you will not have permission to create compute resources. Talk to your workspace or IT admin to create the compute targets described in this section, if they do not already exist.\r\n",
        "\r\n",
        "See code snippet below. Check the documentation [here](https://docs.microsoft.com/en-us/azure/machine-learning/service/how-to-secure-web-service) for more details"
      ],
      "metadata": {
        "nteract": {
          "transient": {
            "deleting": false
          }
        }
      }
    },
    {
      "cell_type": "code",
      "source": [
        "# Use the default configuration (can also provide parameters to customize)\r\n",
        "\r\n",
        "provisioning_config = AksCompute.provisioning_configuration()\r\n",
        "# Leaf domain label generates a name using the formula\r\n",
        "#  \"<leaf-domain-label>######.<azure-region>.cloudapp.azure.net\"\r\n",
        "#  where \"######\" is a random series of characters\r\n",
        "provisioning_config.enable_ssl(leaf_domain_label = \"contoso\", overwrite_existing_domain = False)\r\n",
        "\r\n",
        "aks_name = 'my-aks-ssl-2' \r\n",
        "# Create the cluster\r\n",
        "aks_target = ComputeTarget.create(workspace = ws, \r\n",
        "                                  name = aks_name, \r\n",
        "                                  provisioning_configuration = provisioning_config)\r\n"
      ],
      "outputs": [],
      "execution_count": 16,
      "metadata": {
        "jupyter": {
          "source_hidden": false,
          "outputs_hidden": false
        },
        "nteract": {
          "transient": {
            "deleting": false
          }
        },
        "gather": {
          "logged": 1639639375026
        }
      }
    },
    {
      "cell_type": "code",
      "source": [
        "%%time\r\n",
        "aks_target.wait_for_completion(show_output = True)\r\n",
        "print(aks_target.provisioning_state)\r\n",
        "print(aks_target.provisioning_errors)"
      ],
      "outputs": [
        {
          "output_type": "stream",
          "name": "stdout",
          "text": "SucceededProvisioning operation finished, operation \"Succeeded\"\nSucceeded\nNone\nCPU times: user 43.4 ms, sys: 3.9 ms, total: 47.3 ms\nWall time: 344 ms\n"
        }
      ],
      "execution_count": 18,
      "metadata": {
        "jupyter": {
          "source_hidden": false,
          "outputs_hidden": false
        },
        "nteract": {
          "transient": {
            "deleting": false
          }
        }
      }
    },
    {
      "cell_type": "markdown",
      "source": [
        "# Deploy web service to AKS"
      ],
      "metadata": {
        "nteract": {
          "transient": {
            "deleting": false
          }
        }
      }
    },
    {
      "cell_type": "code",
      "source": [
        "#deployment_config = AksWebservice.deploy_configuration(cpu_cores=1, memory_gb=1, auth_enabled=False)"
      ],
      "outputs": [],
      "execution_count": null,
      "metadata": {
        "jupyter": {
          "source_hidden": false,
          "outputs_hidden": false
        },
        "nteract": {
          "transient": {
            "deleting": false
          }
        }
      }
    },
    {
      "cell_type": "code",
      "source": [
        "%%time\r\n",
        "\r\n",
        "aks_config = AksWebservice.deploy_configuration()\r\n",
        "\r\n",
        "aks_service_name ='aks-service-ssl-1'\r\n",
        "\r\n",
        "aks_service = Model.deploy(workspace=ws,\r\n",
        "                           name=aks_service_name,\r\n",
        "                           models=[model],\r\n",
        "                           inference_config=inf_config,\r\n",
        "                           deployment_config=aks_config,\r\n",
        "                           deployment_target=aks_target,\r\n",
        "                          overwrite=True)\r\n",
        "\r\n",
        "aks_service.wait_for_deployment(show_output = True)\r\n",
        "print(aks_service.state)"
      ],
      "outputs": [
        {
          "output_type": "stream",
          "name": "stdout",
          "text": "Tips: You can try get_logs(): https://aka.ms/debugimage#dockerlog or local deployment: https://aka.ms/debugimage#debug-locally to debug if deployment takes longer than 10 minutes.\nRunning\n2021-12-16 08:08:00+00:00 Creating Container Registry if not exists.\n2021-12-16 08:08:00+00:00 Registering the environment.\n2021-12-16 08:08:01+00:00 Building image..\n2021-12-16 08:14:27+00:00 Creating resources in AKS.\n2021-12-16 08:14:28+00:00 Submitting deployment to compute.\n2021-12-16 08:14:28+00:00 Checking the status of deployment aks-service-ssl-1..\n2021-12-16 08:17:48+00:00 Checking the status of inference endpoint aks-service-ssl-1.\nSucceeded\nAKS service creation operation finished, operation \"Succeeded\"\nHealthy\nCPU times: user 1.45 s, sys: 137 ms, total: 1.59 s\nWall time: 9min 58s\n"
        }
      ],
      "execution_count": 19,
      "metadata": {
        "jupyter": {
          "source_hidden": false,
          "outputs_hidden": false
        },
        "nteract": {
          "transient": {
            "deleting": false
          }
        }
      }
    },
    {
      "cell_type": "markdown",
      "source": [
        "# Test the web service using run method\r\n",
        "We test the web sevice by passing data.\r\n",
        "Run() method retrieves API keys behind the scenes to make sure that call is authenticated."
      ],
      "metadata": {
        "nteract": {
          "transient": {
            "deleting": false
          }
        }
      }
    },
    {
      "cell_type": "code",
      "source": [
        "%%time\r\n",
        "import json\r\n",
        "\r\n",
        "input_payload = json.dumps({\r\n",
        "    'user_id': \"1\",\r\n",
        "    'movie_id': \"1029\"\r\n",
        "})\r\n",
        "\r\n",
        "output = aks_service.run(input_payload)\r\n",
        "\r\n",
        "print(output)"
      ],
      "outputs": [
        {
          "output_type": "stream",
          "name": "stdout",
          "text": "[1, 1029, None, 2.6728017859274695, {'was_impossible': False}]\nCPU times: user 3.38 ms, sys: 197 µs, total: 3.58 ms\nWall time: 12.3 ms\n"
        }
      ],
      "execution_count": 21,
      "metadata": {
        "jupyter": {
          "source_hidden": false,
          "outputs_hidden": false
        },
        "nteract": {
          "transient": {
            "deleting": false
          }
        }
      }
    }
  ],
  "metadata": {
    "kernelspec": {
      "name": "python3-azureml",
      "language": "python",
      "display_name": "Python 3.6 - AzureML"
    },
    "language_info": {
      "name": "python",
      "version": "3.6.9",
      "mimetype": "text/x-python",
      "codemirror_mode": {
        "name": "ipython",
        "version": 3
      },
      "pygments_lexer": "ipython3",
      "nbconvert_exporter": "python",
      "file_extension": ".py"
    },
    "kernel_info": {
      "name": "python3-azureml"
    },
    "microsoft": {
      "host": {
        "AzureML": {
          "notebookHasBeenCompleted": true
        }
      }
    },
    "nteract": {
      "version": "nteract-front-end@1.0.0"
    }
  },
  "nbformat": 4,
  "nbformat_minor": 0
}